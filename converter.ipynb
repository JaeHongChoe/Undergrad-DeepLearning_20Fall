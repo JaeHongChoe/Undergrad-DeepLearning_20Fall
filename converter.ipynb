{
 "cells": [
  {
   "cell_type": "code",
   "execution_count": 2,
   "metadata": {
    "colab": {
     "base_uri": "https://localhost:8080/",
     "height": 34
    },
    "colab_type": "code",
    "executionInfo": {
     "elapsed": 943,
     "status": "ok",
     "timestamp": 1600341557688,
     "user": {
      "displayName": "최재홍",
      "photoUrl": "",
      "userId": "11531273785347252451"
     },
     "user_tz": -540
    },
    "id": "NJQljPQVyg1m",
    "outputId": "6d194a82-a055-4333-c04e-697b865bc44e"
   },
   "outputs": [
    {
     "name": "stdout",
     "output_type": "stream",
     "text": [
      "/bin/bash: /home/h20195271/.venv/py369keras/bin/jupyter: No such file or directory\r\n"
     ]
    }
   ],
   "source": [
    "!~/.venv/py369keras/bin/jupyter notebook --generate-config"
   ]
  },
  {
   "cell_type": "code",
   "execution_count": 11,
   "metadata": {},
   "outputs": [
    {
     "name": "stdout",
     "output_type": "stream",
     "text": [
      "/bin/bash: /home/h20195271/work/repos/710231_2020Fall/03_NeuralNetwork: Is a directory\r\n"
     ]
    }
   ],
   "source": [
    "!/home/h20195271/work/repos/710231_2020Fall/03_NeuralNetwork --generate-config"
   ]
  },
  {
   "cell_type": "code",
   "execution_count": 3,
   "metadata": {
    "colab": {},
    "colab_type": "code",
    "id": "qWQjaZYYyg1r",
    "outputId": "b4d08a78-e55d-435e-d495-dedf0b432baf"
   },
   "outputs": [
    {
     "name": "stdout",
     "output_type": "stream",
     "text": [
      "/bin/bash: /home/h20195271/.venv/py369keras/bin/jupyter: No such file or directory\r\n"
     ]
    }
   ],
   "source": [
    "!~/.venv/py369keras/bin/jupyter --paths"
   ]
  },
  {
   "cell_type": "code",
   "execution_count": null,
   "metadata": {
    "colab": {},
    "colab_type": "code",
    "id": "nTJQFVjWyg1u"
   },
   "outputs": [],
   "source": [
    "#!cat /home/seung/.jupyter/jupyter_notebook_config.py"
   ]
  },
  {
   "cell_type": "code",
   "execution_count": 1,
   "metadata": {
    "colab": {},
    "colab_type": "code",
    "id": "b0BviIgEyg1w",
    "outputId": "7b5bc8df-52d0-4d92-b8d5-e7412cf9b35d"
   },
   "outputs": [
    {
     "name": "stdout",
     "output_type": "stream",
     "text": [
      "/bin/bash: /home/h20195271/.venv/py369keras/bin/jupyter: No such file or directory\r\n"
     ]
    }
   ],
   "source": [
    "!~/.venv/py369keras/bin/jupyter nbconvert 01_Python-basic/01-HelloPython.ipynb --to pdf"
   ]
  },
  {
   "cell_type": "code",
   "execution_count": null,
   "metadata": {
    "colab": {},
    "colab_type": "code",
    "id": "kfvr8eyUyg1y",
    "outputId": "5b7350be-794d-4558-b204-ac9f8a08dd55"
   },
   "outputs": [
    {
     "name": "stdout",
     "output_type": "stream",
     "text": [
      "-rwxrwxr-x 1 seung seung 243 Jun 21 01:54 /home/seung/.venv/py369keras/bin/jupyter\r\n"
     ]
    }
   ],
   "source": [
    "!ls -al ~/.venv/py369keras/bin/jupyter"
   ]
  },
  {
   "cell_type": "code",
   "execution_count": null,
   "metadata": {
    "colab": {},
    "colab_type": "code",
    "id": "xYYf73mEyg12",
    "outputId": "5548453a-0e24-41c8-9a27-bdec48d8b334"
   },
   "outputs": [
    {
     "name": "stdout",
     "output_type": "stream",
     "text": [
      "[NbConvertApp] Converting notebook 01_Python-basic/01-HelloPython.ipynb to pdf\n",
      "[NbConvertApp] Writing 29796 bytes to ./notebook.tex\n",
      "[NbConvertApp] Building PDF\n",
      "[NbConvertApp] Running xelatex 3 times: ['xelatex', './notebook.tex', '-quiet']\n",
      "[NbConvertApp] Running bibtex 1 time: ['bibtex', './notebook']\n",
      "[NbConvertApp] WARNING | bibtex had problems, most likely because there were no citations\n",
      "[NbConvertApp] PDF successfully created\n",
      "[NbConvertApp] Writing 77855 bytes to 01_Python-basic/01-HelloPython.pdf\n"
     ]
    }
   ],
   "source": [
    "!~/.venv/py369keras/bin/jupyter nbconvert 01_Python-basic/01-HelloPython.ipynb --to pdf --template=oblivoir.tplx"
   ]
  },
  {
   "cell_type": "code",
   "execution_count": null,
   "metadata": {
    "colab": {},
    "colab_type": "code",
    "id": "UFhp_2_Zyg14"
   },
   "outputs": [],
   "source": []
  },
  {
   "cell_type": "code",
   "execution_count": null,
   "metadata": {
    "colab": {},
    "colab_type": "code",
    "id": "nQ9-4ZKVyg17",
    "outputId": "38813dfb-8382-4a97-dfb0-393ae0dcbb05"
   },
   "outputs": [
    {
     "name": "stdout",
     "output_type": "stream",
     "text": [
      "[NbConvertApp] Converting notebook 01_Python-basic/03_HelloNumpy_course.ipynb to pdf\n",
      "[NbConvertApp] Support files will be in 03_HelloNumpy_course_files/\n",
      "[NbConvertApp] Making directory ./03_HelloNumpy_course_files\n",
      "[NbConvertApp] Making directory ./03_HelloNumpy_course_files\n",
      "[NbConvertApp] Making directory ./03_HelloNumpy_course_files\n",
      "[NbConvertApp] Making directory ./03_HelloNumpy_course_files\n",
      "[NbConvertApp] Writing 50376 bytes to ./notebook.tex\n",
      "[NbConvertApp] Building PDF\n",
      "[NbConvertApp] Running xelatex 3 times: ['xelatex', './notebook.tex', '-quiet']\n",
      "[NbConvertApp] Running bibtex 1 time: ['bibtex', './notebook']\n",
      "[NbConvertApp] WARNING | bibtex had problems, most likely because there were no citations\n",
      "[NbConvertApp] PDF successfully created\n",
      "[NbConvertApp] Writing 141015 bytes to 01_Python-basic/03_HelloNumpy_course.pdf\n"
     ]
    }
   ],
   "source": [
    "!~/.venv/py369keras/bin/jupyter nbconvert 01_Python-basic/03_HelloNumpy_course.ipynb --to pdf --template=oblivoir.tplx"
   ]
  },
  {
   "cell_type": "code",
   "execution_count": null,
   "metadata": {
    "colab": {},
    "colab_type": "code",
    "id": "bpO4czpKyg1-"
   },
   "outputs": [],
   "source": []
  },
  {
   "cell_type": "code",
   "execution_count": null,
   "metadata": {
    "colab": {},
    "colab_type": "code",
    "id": "xP0vc3Zhyg2A"
   },
   "outputs": [],
   "source": []
  },
  {
   "cell_type": "code",
   "execution_count": null,
   "metadata": {
    "colab": {},
    "colab_type": "code",
    "id": "S__sjodryg2D",
    "outputId": "bfb80230-1770-4fbb-b2d0-21c45ca53dbd"
   },
   "outputs": [
    {
     "name": "stdout",
     "output_type": "stream",
     "text": [
      "[NbConvertApp] Converting notebook 01_Python-basic/01-HelloPython.ipynb to pdf\n",
      "[NbConvertApp] Writing 37313 bytes to ./notebook.tex\n",
      "[NbConvertApp] Building PDF\n",
      "[NbConvertApp] Running xelatex 3 times: ['xelatex', './notebook.tex', '-quiet']\n",
      "[NbConvertApp] CRITICAL | xelatex failed: ['xelatex', './notebook.tex', '-quiet']\n",
      "This is XeTeX, Version 3.14159265-2.6-0.99998 (TeX Live 2017/Debian) (preloaded format=xelatex)\n",
      " restricted \\write18 enabled.\n",
      "entering extended mode\n",
      "(./notebook.tex\n",
      "LaTeX2e <2017-04-15>\n",
      "Babel <3.18> and hyphenation patterns for 84 language(s) loaded.\n",
      "! You can't use `macro parameter character #' in vertical mode.\n",
      "l.1 #\n",
      "     \\documentclass[11pt,language=korean]{article}\n",
      "? \n",
      "! Emergency stop.\n",
      "l.1 #\n",
      "     \\documentclass[11pt,language=korean]{article}\n",
      "No pages of output.\n",
      "Transcript written on notebook.log.\n",
      "\n",
      "Traceback (most recent call last):\n",
      "  File \"/home/seung/.venv/py369keras/bin/jupyter-nbconvert\", line 8, in <module>\n",
      "    sys.exit(main())\n",
      "  File \"/home/seung/.venv/py369keras/lib/python3.6/site-packages/jupyter_core/application.py\", line 267, in launch_instance\n",
      "    return super(JupyterApp, cls).launch_instance(argv=argv, **kwargs)\n",
      "  File \"/home/seung/.venv/py369keras/lib/python3.6/site-packages/traitlets/config/application.py\", line 658, in launch_instance\n",
      "    app.start()\n",
      "  File \"/home/seung/.venv/py369keras/lib/python3.6/site-packages/nbconvert/nbconvertapp.py\", line 340, in start\n",
      "    self.convert_notebooks()\n",
      "  File \"/home/seung/.venv/py369keras/lib/python3.6/site-packages/nbconvert/nbconvertapp.py\", line 510, in convert_notebooks\n",
      "    self.convert_single_notebook(notebook_filename)\n",
      "  File \"/home/seung/.venv/py369keras/lib/python3.6/site-packages/nbconvert/nbconvertapp.py\", line 481, in convert_single_notebook\n",
      "    output, resources = self.export_single_notebook(notebook_filename, resources, input_buffer=input_buffer)\n",
      "  File \"/home/seung/.venv/py369keras/lib/python3.6/site-packages/nbconvert/nbconvertapp.py\", line 410, in export_single_notebook\n",
      "    output, resources = self.exporter.from_filename(notebook_filename, resources=resources)\n",
      "  File \"/home/seung/.venv/py369keras/lib/python3.6/site-packages/nbconvert/exporters/exporter.py\", line 179, in from_filename\n",
      "    return self.from_file(f, resources=resources, **kw)\n",
      "  File \"/home/seung/.venv/py369keras/lib/python3.6/site-packages/nbconvert/exporters/exporter.py\", line 197, in from_file\n",
      "    return self.from_notebook_node(nbformat.read(file_stream, as_version=4), resources=resources, **kw)\n",
      "  File \"/home/seung/.venv/py369keras/lib/python3.6/site-packages/nbconvert/exporters/pdf.py\", line 185, in from_notebook_node\n",
      "    self.run_latex(tex_file)\n",
      "  File \"/home/seung/.venv/py369keras/lib/python3.6/site-packages/nbconvert/exporters/pdf.py\", line 156, in run_latex\n",
      "    self.latex_count, log_error, raise_on_failure)\n",
      "  File \"/home/seung/.venv/py369keras/lib/python3.6/site-packages/nbconvert/exporters/pdf.py\", line 145, in run_command\n",
      "    command=command, output=out))\n",
      "nbconvert.exporters.pdf.LatexFailed: PDF creating failed, captured latex output:\n",
      "Failed to run \"['xelatex', './notebook.tex', '-quiet']\" command:\n",
      "This is XeTeX, Version 3.14159265-2.6-0.99998 (TeX Live 2017/Debian) (preloaded format=xelatex)\n",
      " restricted \\write18 enabled.\n",
      "entering extended mode\n",
      "(./notebook.tex\n",
      "LaTeX2e <2017-04-15>\n",
      "Babel <3.18> and hyphenation patterns for 84 language(s) loaded.\n",
      "! You can't use `macro parameter character #' in vertical mode.\n",
      "l.1 #\n",
      "     \\documentclass[11pt,language=korean]{article}\n",
      "? \n",
      "! Emergency stop.\n",
      "l.1 #\n",
      "     \\documentclass[11pt,language=korean]{article}\n",
      "No pages of output.\n",
      "Transcript written on notebook.log.\n",
      "\n"
     ]
    }
   ],
   "source": [
    "!~/.venv/py369keras/bin/jupyter nbconvert 01_Python-basic/01-HelloPython.ipynb --to pdf --template=hangul.tplx"
   ]
  },
  {
   "cell_type": "code",
   "execution_count": null,
   "metadata": {
    "colab": {},
    "colab_type": "code",
    "id": "7QMBwgQTyg2G"
   },
   "outputs": [],
   "source": []
  }
 ],
 "metadata": {
  "colab": {
   "name": "converter.ipynb",
   "provenance": []
  },
  "kernelspec": {
   "display_name": "Python 3",
   "language": "python",
   "name": "python3"
  },
  "language_info": {
   "codemirror_mode": {
    "name": "ipython",
    "version": 3
   },
   "file_extension": ".py",
   "mimetype": "text/x-python",
   "name": "python",
   "nbconvert_exporter": "python",
   "pygments_lexer": "ipython3",
   "version": "3.6.9"
  }
 },
 "nbformat": 4,
 "nbformat_minor": 1
}
