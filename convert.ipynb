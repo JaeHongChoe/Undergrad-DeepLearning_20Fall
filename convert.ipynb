{
 "cells": [
  {
   "cell_type": "code",
   "execution_count": 1,
   "metadata": {
    "colab": {
     "base_uri": "https://localhost:8080/",
     "height": 34
    },
    "executionInfo": {
     "elapsed": 729,
     "status": "ok",
     "timestamp": 1602425690652,
     "user": {
      "displayName": "최재홍",
      "photoUrl": "",
      "userId": "11531273785347252451"
     },
     "user_tz": -540
    },
    "id": "mu4sufNg-7E2",
    "outputId": "bb745f4e-e283-436c-88fd-5d8ec7695f70"
   },
   "outputs": [
    {
     "name": "stdout",
     "output_type": "stream",
     "text": [
      "01_Python-basic  03_NeuralNetwork  convert.ipynb    test_server_jay.ipynb\r\n",
      "02_ML_Basic\t converter.ipynb   markdownimg.PNG\r\n"
     ]
    }
   ],
   "source": [
    "!ls"
   ]
  },
  {
   "cell_type": "code",
   "execution_count": 2,
   "metadata": {
    "colab": {
     "base_uri": "https://localhost:8080/",
     "height": 70
    },
    "executionInfo": {
     "elapsed": 737,
     "status": "ok",
     "timestamp": 1602425691864,
     "user": {
      "displayName": "최재홍",
      "photoUrl": "",
      "userId": "11531273785347252451"
     },
     "user_tz": -540
    },
    "id": "yAl_gy-pAR_Z",
    "outputId": "3d17bb07-88ad-46ff-d25f-eab7ced66b05"
   },
   "outputs": [
    {
     "name": "stdout",
     "output_type": "stream",
     "text": [
      "01_1_NeuralNetwork_basic.ipynb\t 04_1_num_diff.ipynb\r\n",
      "01_2_NN_Forward_Class.ipynb\t 04_2_num_diff_2D.ipynb\r\n",
      "01_3_NN_MNIST_Exploration.ipynb  04_3_gradient_descent.ipynb\r\n",
      "01_3_NN_MNIST_Prediction.ipynb\t 05_1_Simple_Network.ipynb\r\n",
      "02_Softmax.ipynb\t\t 05_2_Simple_Network_gradient.ipynb\r\n",
      "03_loss_function.ipynb\t\t dataset\r\n"
     ]
    }
   ],
   "source": [
    "!ls 03_NeuralNetwork"
   ]
  },
  {
   "cell_type": "code",
   "execution_count": 3,
   "metadata": {
    "colab": {
     "base_uri": "https://localhost:8080/",
     "height": 34
    },
    "executionInfo": {
     "elapsed": 874,
     "status": "ok",
     "timestamp": 1602425692865,
     "user": {
      "displayName": "최재홍",
      "photoUrl": "",
      "userId": "11531273785347252451"
     },
     "user_tz": -540
    },
    "id": "EkcUfI9wAVrD",
    "outputId": "1fd95ada-d251-4cdf-ac67-dd2036f0b8f8"
   },
   "outputs": [
    {
     "name": "stdout",
     "output_type": "stream",
     "text": [
      "/home/h20195271/work/repos/710231_2020Fall\r\n"
     ]
    }
   ],
   "source": [
    "!pwd"
   ]
  },
  {
   "cell_type": "code",
   "execution_count": null,
   "metadata": {},
   "outputs": [],
   "source": []
  },
  {
   "cell_type": "code",
   "execution_count": null,
   "metadata": {
    "colab": {
     "base_uri": "https://localhost:8080/",
     "height": 140
    },
    "executionInfo": {
     "elapsed": 2799,
     "status": "ok",
     "timestamp": 1602425696669,
     "user": {
      "displayName": "최재홍",
      "photoUrl": "",
      "userId": "11531273785347252451"
     },
     "user_tz": -540
    },
    "id": "xbgAwqDrAaUP",
    "outputId": "a649d3d6-291a-401f-db0c-6baee4a278b9"
   },
   "outputs": [
    {
     "name": "stdout",
     "output_type": "stream",
     "text": [
      "[sudo] password for h20195271: "
     ]
    }
   ],
   "source": [
    "!sudo apt install pandoc texlive texlive-xetex"
   ]
  },
  {
   "cell_type": "code",
   "execution_count": null,
   "metadata": {
    "colab": {
     "base_uri": "https://localhost:8080/",
     "height": 34
    },
    "executionInfo": {
     "elapsed": 661,
     "status": "ok",
     "timestamp": 1602425707456,
     "user": {
      "displayName": "최재홍",
      "photoUrl": "",
      "userId": "11531273785347252451"
     },
     "user_tz": -540
    },
    "id": "kQUvhtQmArfx",
    "outputId": "d2f0a0e4-4a69-4b18-9e78-a8a0911c4d4d"
   },
   "outputs": [],
   "source": [
    "from google.colab import drive\n",
    "drive.mount(\"/content/drive\")"
   ]
  },
  {
   "cell_type": "code",
   "execution_count": 21,
   "metadata": {
    "colab": {
     "base_uri": "https://localhost:8080/",
     "height": 34
    },
    "executionInfo": {
     "elapsed": 766,
     "status": "ok",
     "timestamp": 1602425712340,
     "user": {
      "displayName": "최재홍",
      "photoUrl": "",
      "userId": "11531273785347252451"
     },
     "user_tz": -540
    },
    "id": "xtze-fSrA-fW",
    "outputId": "bb72e4bc-d0fb-4259-86c6-c7c9f40871ab"
   },
   "outputs": [
    {
     "name": "stdout",
     "output_type": "stream",
     "text": [
      "drive  sample_data\n"
     ]
    }
   ],
   "source": [
    "!ls"
   ]
  },
  {
   "cell_type": "code",
   "execution_count": 23,
   "metadata": {
    "colab": {
     "base_uri": "https://localhost:8080/",
     "height": 34
    },
    "executionInfo": {
     "elapsed": 642,
     "status": "ok",
     "timestamp": 1602425719092,
     "user": {
      "displayName": "최재홍",
      "photoUrl": "",
      "userId": "11531273785347252451"
     },
     "user_tz": -540
    },
    "id": "QEWLytbRBONe",
    "outputId": "3fc311d5-3de7-4ca8-be98-bda83e2cca02"
   },
   "outputs": [
    {
     "name": "stdout",
     "output_type": "stream",
     "text": [
      "'drive/My Drive/2020-DeepLearning/02_ML_Basic/01_linear_regression_using_tensorflow_homework_added.ipynb'\n"
     ]
    }
   ],
   "source": [
    "!ls drive/'My Drive'/2020-DeepLearning/02_ML_Basic/01_linear_regression_using_tensorflow_homework_added.ipynb"
   ]
  },
  {
   "cell_type": "code",
   "execution_count": 24,
   "metadata": {
    "colab": {
     "base_uri": "https://localhost:8080/",
     "height": 457
    },
    "executionInfo": {
     "elapsed": 7277,
     "status": "ok",
     "timestamp": 1602425737921,
     "user": {
      "displayName": "최재홍",
      "photoUrl": "",
      "userId": "11531273785347252451"
     },
     "user_tz": -540
    },
    "id": "yHuyuxBeBUNw",
    "outputId": "0ce92c77-080e-48d1-8e3c-e2e71aba9fa3"
   },
   "outputs": [
    {
     "name": "stdout",
     "output_type": "stream",
     "text": [
      "[NbConvertApp] WARNING | pattern u'drive/My Drive/2020-DeepLearning/02_ML_Basic/01_linear_regression_using_tensorflow_homework_added.pdf' matched no files\n",
      "[NbConvertApp] Converting notebook drive/My Drive/2020-DeepLearning/02_ML_Basic/01_linear_regression_using_tensorflow_homework_added.ipynb to PDF\n",
      "[NbConvertApp] Support files will be in 01_linear_regression_using_tensorflow_homework_added_files/\n",
      "[NbConvertApp] Making directory ./01_linear_regression_using_tensorflow_homework_added_files\n",
      "[NbConvertApp] Making directory ./01_linear_regression_using_tensorflow_homework_added_files\n",
      "[NbConvertApp] Making directory ./01_linear_regression_using_tensorflow_homework_added_files\n",
      "[NbConvertApp] Making directory ./01_linear_regression_using_tensorflow_homework_added_files\n",
      "[NbConvertApp] Making directory ./01_linear_regression_using_tensorflow_homework_added_files\n",
      "[NbConvertApp] Making directory ./01_linear_regression_using_tensorflow_homework_added_files\n",
      "[NbConvertApp] Making directory ./01_linear_regression_using_tensorflow_homework_added_files\n",
      "[NbConvertApp] Making directory ./01_linear_regression_using_tensorflow_homework_added_files\n",
      "[NbConvertApp] Making directory ./01_linear_regression_using_tensorflow_homework_added_files\n",
      "[NbConvertApp] Making directory ./01_linear_regression_using_tensorflow_homework_added_files\n",
      "[NbConvertApp] Making directory ./01_linear_regression_using_tensorflow_homework_added_files\n",
      "[NbConvertApp] Making directory ./01_linear_regression_using_tensorflow_homework_added_files\n",
      "[NbConvertApp] Making directory ./01_linear_regression_using_tensorflow_homework_added_files\n",
      "[NbConvertApp] Making directory ./01_linear_regression_using_tensorflow_homework_added_files\n",
      "[NbConvertApp] Making directory ./01_linear_regression_using_tensorflow_homework_added_files\n",
      "[NbConvertApp] Writing 75021 bytes to ./notebook.tex\n",
      "[NbConvertApp] Building PDF\n",
      "[NbConvertApp] Running xelatex 3 times: [u'xelatex', u'./notebook.tex', '-quiet']\n",
      "[NbConvertApp] Running bibtex 1 time: [u'bibtex', u'./notebook']\n",
      "[NbConvertApp] WARNING | bibtex had problems, most likely because there were no citations\n",
      "[NbConvertApp] PDF successfully created\n",
      "[NbConvertApp] Writing 177919 bytes to drive/My Drive/2020-DeepLearning/02_ML_Basic/01_linear_regression_using_tensorflow_homework_added.pdf\n"
     ]
    }
   ],
   "source": [
    "!jupyter nbconvert --to PDF drive/'My Drive'/2020-DeepLearning/02_ML_Basic/01_linear_regression_using_tensorflow_homework_added.ipynb \\\n",
    "drive/'My Drive'/2020-DeepLearning/02_ML_Basic/01_linear_regression_using_tensorflow_homework_added.pdf"
   ]
  },
  {
   "cell_type": "code",
   "execution_count": null,
   "metadata": {
    "id": "x6V9QF3zDJe1"
   },
   "outputs": [],
   "source": []
  }
 ],
 "metadata": {
  "colab": {
   "authorship_tag": "ABX9TyNkRrnpEhUVDXBVQM+I//L3",
   "collapsed_sections": [],
   "name": "convert.ipynb",
   "provenance": []
  },
  "kernelspec": {
   "display_name": "Python 3",
   "language": "python",
   "name": "python3"
  },
  "language_info": {
   "codemirror_mode": {
    "name": "ipython",
    "version": 3
   },
   "file_extension": ".py",
   "mimetype": "text/x-python",
   "name": "python",
   "nbconvert_exporter": "python",
   "pygments_lexer": "ipython3",
   "version": "3.6.9"
  }
 },
 "nbformat": 4,
 "nbformat_minor": 1
}
