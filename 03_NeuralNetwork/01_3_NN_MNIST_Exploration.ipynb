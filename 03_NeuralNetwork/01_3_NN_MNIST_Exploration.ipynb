{
 "cells": [
  {
   "cell_type": "code",
   "execution_count": 1,
   "metadata": {
    "scrolled": true
   },
   "outputs": [
    {
     "name": "stdout",
     "output_type": "stream",
     "text": [
      "Requirement already satisfied: matplot in /home/h20195271/.venv/py369AI/lib/python3.6/site-packages (0.1.9)\n",
      "Requirement already satisfied: matplotlib>=3.1.1 in /home/h20195271/.venv/py369AI/lib/python3.6/site-packages (from matplot) (3.3.3)\n",
      "Requirement already satisfied: pyloco>=0.0.134 in /home/h20195271/.venv/py369AI/lib/python3.6/site-packages (from matplot) (0.0.139)\n",
      "Requirement already satisfied: cycler>=0.10 in /home/h20195271/.venv/py369AI/lib/python3.6/site-packages (from matplotlib>=3.1.1->matplot) (0.10.0)\n",
      "Requirement already satisfied: kiwisolver>=1.0.1 in /home/h20195271/.venv/py369AI/lib/python3.6/site-packages (from matplotlib>=3.1.1->matplot) (1.3.1)\n",
      "Requirement already satisfied: numpy>=1.15 in /home/h20195271/.venv/py369AI/lib/python3.6/site-packages (from matplotlib>=3.1.1->matplot) (1.19.2)\n",
      "Requirement already satisfied: pillow>=6.2.0 in /home/h20195271/.venv/py369AI/lib/python3.6/site-packages (from matplotlib>=3.1.1->matplot) (8.0.1)\n",
      "Requirement already satisfied: pyparsing!=2.0.4,!=2.1.2,!=2.1.6,>=2.0.3 in /home/h20195271/.venv/py369AI/lib/python3.6/site-packages (from matplotlib>=3.1.1->matplot) (2.4.7)\n",
      "Requirement already satisfied: python-dateutil>=2.1 in /home/h20195271/.venv/py369AI/lib/python3.6/site-packages (from matplotlib>=3.1.1->matplot) (2.8.1)\n",
      "Requirement already satisfied: SimpleWebSocketServer in /home/h20195271/.venv/py369AI/lib/python3.6/site-packages (from pyloco>=0.0.134->matplot) (0.1.1)\n",
      "Requirement already satisfied: websocket-client in /home/h20195271/.venv/py369AI/lib/python3.6/site-packages (from pyloco>=0.0.134->matplot) (0.57.0)\n",
      "Requirement already satisfied: ushlex in /home/h20195271/.venv/py369AI/lib/python3.6/site-packages (from pyloco>=0.0.134->matplot) (0.99.1)\n",
      "Requirement already satisfied: twine in /home/h20195271/.venv/py369AI/lib/python3.6/site-packages (from pyloco>=0.0.134->matplot) (3.2.0)\n",
      "Requirement already satisfied: typing in /home/h20195271/.venv/py369AI/lib/python3.6/site-packages (from pyloco>=0.0.134->matplot) (3.7.4.3)\n",
      "Requirement already satisfied: six in /home/h20195271/.venv/py369AI/lib/python3.6/site-packages (from cycler>=0.10->matplotlib>=3.1.1->matplot) (1.15.0)\n",
      "Requirement already satisfied: importlib-metadata; python_version < \"3.8\" in /home/h20195271/.venv/py369AI/lib/python3.6/site-packages (from twine->pyloco>=0.0.134->matplot) (2.0.0)\n",
      "Requirement already satisfied: keyring>=15.1 in /home/h20195271/.venv/py369AI/lib/python3.6/site-packages (from twine->pyloco>=0.0.134->matplot) (21.5.0)\n",
      "Requirement already satisfied: readme-renderer>=21.0 in /home/h20195271/.venv/py369AI/lib/python3.6/site-packages (from twine->pyloco>=0.0.134->matplot) (28.0)\n",
      "Requirement already satisfied: requests-toolbelt!=0.9.0,>=0.8.0 in /home/h20195271/.venv/py369AI/lib/python3.6/site-packages (from twine->pyloco>=0.0.134->matplot) (0.9.1)\n",
      "Requirement already satisfied: setuptools>=0.7.0 in /home/h20195271/.venv/py369AI/lib/python3.6/site-packages (from twine->pyloco>=0.0.134->matplot) (50.3.1)\n",
      "Requirement already satisfied: tqdm>=4.14 in /home/h20195271/.venv/py369AI/lib/python3.6/site-packages (from twine->pyloco>=0.0.134->matplot) (4.51.0)\n",
      "Requirement already satisfied: rfc3986>=1.4.0 in /home/h20195271/.venv/py369AI/lib/python3.6/site-packages (from twine->pyloco>=0.0.134->matplot) (1.4.0)\n",
      "Requirement already satisfied: colorama>=0.4.3 in /home/h20195271/.venv/py369AI/lib/python3.6/site-packages (from twine->pyloco>=0.0.134->matplot) (0.4.4)\n",
      "Requirement already satisfied: pkginfo>=1.4.2 in /home/h20195271/.venv/py369AI/lib/python3.6/site-packages (from twine->pyloco>=0.0.134->matplot) (1.6.1)\n",
      "Requirement already satisfied: requests>=2.20 in /home/h20195271/.venv/py369AI/lib/python3.6/site-packages (from twine->pyloco>=0.0.134->matplot) (2.25.0)\n",
      "Requirement already satisfied: zipp>=0.5 in /home/h20195271/.venv/py369AI/lib/python3.6/site-packages (from importlib-metadata; python_version < \"3.8\"->twine->pyloco>=0.0.134->matplot) (3.4.0)\n",
      "Requirement already satisfied: jeepney>=0.4.2; sys_platform == \"linux\" in /home/h20195271/.venv/py369AI/lib/python3.6/site-packages (from keyring>=15.1->twine->pyloco>=0.0.134->matplot) (0.5.0)\n",
      "Requirement already satisfied: SecretStorage>=3.2; sys_platform == \"linux\" in /home/h20195271/.venv/py369AI/lib/python3.6/site-packages (from keyring>=15.1->twine->pyloco>=0.0.134->matplot) (3.2.0)\n",
      "Requirement already satisfied: bleach>=2.1.0 in /home/h20195271/.venv/py369AI/lib/python3.6/site-packages (from readme-renderer>=21.0->twine->pyloco>=0.0.134->matplot) (3.2.1)\n",
      "Requirement already satisfied: Pygments>=2.5.1 in /home/h20195271/.venv/py369AI/lib/python3.6/site-packages (from readme-renderer>=21.0->twine->pyloco>=0.0.134->matplot) (2.7.2)\n",
      "Requirement already satisfied: docutils>=0.13.1 in /home/h20195271/.venv/py369AI/lib/python3.6/site-packages (from readme-renderer>=21.0->twine->pyloco>=0.0.134->matplot) (0.16)\n",
      "Requirement already satisfied: chardet<4,>=3.0.2 in /home/h20195271/.venv/py369AI/lib/python3.6/site-packages (from requests>=2.20->twine->pyloco>=0.0.134->matplot) (3.0.4)\n",
      "Requirement already satisfied: urllib3<1.27,>=1.21.1 in /home/h20195271/.venv/py369AI/lib/python3.6/site-packages (from requests>=2.20->twine->pyloco>=0.0.134->matplot) (1.26.2)\n",
      "Requirement already satisfied: certifi>=2017.4.17 in /home/h20195271/.venv/py369AI/lib/python3.6/site-packages (from requests>=2.20->twine->pyloco>=0.0.134->matplot) (2020.11.8)\n",
      "Requirement already satisfied: idna<3,>=2.5 in /home/h20195271/.venv/py369AI/lib/python3.6/site-packages (from requests>=2.20->twine->pyloco>=0.0.134->matplot) (2.10)\n",
      "Requirement already satisfied: cryptography>=2.0 in /home/h20195271/.venv/py369AI/lib/python3.6/site-packages (from SecretStorage>=3.2; sys_platform == \"linux\"->keyring>=15.1->twine->pyloco>=0.0.134->matplot) (3.2.1)\n",
      "Requirement already satisfied: packaging in /home/h20195271/.venv/py369AI/lib/python3.6/site-packages (from bleach>=2.1.0->readme-renderer>=21.0->twine->pyloco>=0.0.134->matplot) (20.4)\n",
      "Requirement already satisfied: webencodings in /home/h20195271/.venv/py369AI/lib/python3.6/site-packages (from bleach>=2.1.0->readme-renderer>=21.0->twine->pyloco>=0.0.134->matplot) (0.5.1)\n",
      "Requirement already satisfied: cffi!=1.11.3,>=1.8 in /home/h20195271/.venv/py369AI/lib/python3.6/site-packages (from cryptography>=2.0->SecretStorage>=3.2; sys_platform == \"linux\"->keyring>=15.1->twine->pyloco>=0.0.134->matplot) (1.14.3)\n",
      "Requirement already satisfied: pycparser in /home/h20195271/.venv/py369AI/lib/python3.6/site-packages (from cffi!=1.11.3,>=1.8->cryptography>=2.0->SecretStorage>=3.2; sys_platform == \"linux\"->keyring>=15.1->twine->pyloco>=0.0.134->matplot) (2.20)\n",
      "\u001b[33mWARNING: Keyring is skipped due to an exception: Failed to create the collection: Prompt dismissed..\u001b[0m\n",
      "\u001b[33mWARNING: You are using pip version 20.2.3; however, version 20.2.4 is available.\n",
      "You should consider upgrading via the '/home/h20195271/.venv/py369AI/bin/python -m pip install --upgrade pip' command.\u001b[0m\n",
      "Note: you may need to restart the kernel to use updated packages.\n"
     ]
    }
   ],
   "source": [
    "pip install matplot"
   ]
  },
  {
   "cell_type": "code",
   "execution_count": 2,
   "metadata": {
    "colab": {
     "base_uri": "https://localhost:8080/",
     "height": 380
    },
    "executionInfo": {
     "elapsed": 952,
     "status": "error",
     "timestamp": 1605527700879,
     "user": {
      "displayName": "최재홍",
      "photoUrl": "",
      "userId": "11531273785347252451"
     },
     "user_tz": -540
    },
    "id": "TPIEnxRx1eZa",
    "outputId": "f163df57-d8f9-4482-c801-ff1ac0ec5c93"
   },
   "outputs": [],
   "source": [
    "#import sys, os\n",
    "#sys.path.append(os.pardir)\n",
    "\n",
    "#dataset/mnist.py 에서 load_mnist() 함수를 가져온다\n",
    "from dataset.mnist import load_mnist \n",
    "\n",
    "import pickle\n",
    "import numpy as np\n",
    "import matplotlib.pyplot as plt"
   ]
  },
  {
   "cell_type": "code",
   "execution_count": 3,
   "metadata": {
    "id": "EWToecEN2LR9"
   },
   "outputs": [],
   "source": [
    "def get_data():\n",
    "    (x_train, t_train), (x_test, t_test) = \\\n",
    "        load_mnist(normalize=True, flatten=True, one_hot_label=False)\n",
    "    return x_test, t_test"
   ]
  },
  {
   "cell_type": "code",
   "execution_count": 4,
   "metadata": {
    "colab": {
     "base_uri": "https://localhost:8080/",
     "height": 257
    },
    "executionInfo": {
     "elapsed": 2060,
     "status": "error",
     "timestamp": 1605526678413,
     "user": {
      "displayName": "최재홍",
      "photoUrl": "",
      "userId": "11531273785347252451"
     },
     "user_tz": -540
    },
    "id": "JsarwTL_2MjV",
    "outputId": "770d004c-c8b9-4d91-944e-e1eef15e0a0c"
   },
   "outputs": [],
   "source": [
    "x_test, t_test = get_data()"
   ]
  },
  {
   "cell_type": "code",
   "execution_count": 5,
   "metadata": {
    "id": "09iuxrnT2N9V"
   },
   "outputs": [
    {
     "data": {
      "text/plain": [
       "784"
      ]
     },
     "execution_count": 5,
     "metadata": {},
     "output_type": "execute_result"
    }
   ],
   "source": [
    "28*28"
   ]
  },
  {
   "cell_type": "code",
   "execution_count": 6,
   "metadata": {},
   "outputs": [
    {
     "data": {
      "text/plain": [
       "(10000, 784)"
      ]
     },
     "execution_count": 6,
     "metadata": {},
     "output_type": "execute_result"
    }
   ],
   "source": [
    "x_test.shape"
   ]
  },
  {
   "cell_type": "code",
   "execution_count": 7,
   "metadata": {},
   "outputs": [
    {
     "data": {
      "text/plain": [
       "(10000,)"
      ]
     },
     "execution_count": 7,
     "metadata": {},
     "output_type": "execute_result"
    }
   ],
   "source": [
    "t_test.shape"
   ]
  },
  {
   "cell_type": "code",
   "execution_count": 8,
   "metadata": {},
   "outputs": [
    {
     "data": {
      "text/plain": [
       "7"
      ]
     },
     "execution_count": 8,
     "metadata": {},
     "output_type": "execute_result"
    }
   ],
   "source": [
    "t_test[0]"
   ]
  },
  {
   "cell_type": "code",
   "execution_count": 9,
   "metadata": {},
   "outputs": [
    {
     "data": {
      "text/plain": [
       "array([7, 2, 1, 0, 4, 1, 4, 9, 5, 9], dtype=uint8)"
      ]
     },
     "execution_count": 9,
     "metadata": {},
     "output_type": "execute_result"
    }
   ],
   "source": [
    "t_test[:10]"
   ]
  },
  {
   "cell_type": "code",
   "execution_count": 10,
   "metadata": {},
   "outputs": [
    {
     "data": {
      "text/plain": [
       "(784,)"
      ]
     },
     "execution_count": 10,
     "metadata": {},
     "output_type": "execute_result"
    }
   ],
   "source": [
    "x_test[0].shape"
   ]
  },
  {
   "cell_type": "markdown",
   "metadata": {},
   "source": [
    "## 그려보기"
   ]
  },
  {
   "cell_type": "code",
   "execution_count": 11,
   "metadata": {},
   "outputs": [],
   "source": [
    "idx_to_draw = 6\n",
    "img = x_test[idx_to_draw].reshape((28,28))"
   ]
  },
  {
   "cell_type": "code",
   "execution_count": 12,
   "metadata": {},
   "outputs": [
    {
     "data": {
      "text/plain": [
       "(28, 28)"
      ]
     },
     "execution_count": 12,
     "metadata": {},
     "output_type": "execute_result"
    }
   ],
   "source": [
    "img.shape"
   ]
  },
  {
   "cell_type": "code",
   "execution_count": 13,
   "metadata": {},
   "outputs": [
    {
     "name": "stdout",
     "output_type": "stream",
     "text": [
      "#4\n"
     ]
    }
   ],
   "source": [
    "title = '#{}'.format(t_test[idx_to_draw])\n",
    "print(title)"
   ]
  },
  {
   "cell_type": "code",
   "execution_count": 14,
   "metadata": {},
   "outputs": [
    {
     "data": {
      "image/png": "[encoded data removed]",
      "text/plain": [
       "<Figure size 432x288 with 1 Axes>"
      ]
     },
     "metadata": {
      "needs_background": "light"
     },
     "output_type": "display_data"
    }
   ],
   "source": [
    "#plt.plot(img)\n",
    "plt.imshow(img, cmap='gray')\n",
    "plt.title(title)\n",
    "plt.show()"
   ]
  },
  {
   "cell_type": "markdown",
   "metadata": {},
   "source": [
    "## TODO"
   ]
  },
  {
   "cell_type": "code",
   "execution_count": 15,
   "metadata": {},
   "outputs": [],
   "source": [
    "def onehot(number):\n",
    "    ### START CODE HERE ###\n",
    "    x=np.arange(10)\n",
    "    for a in range(0,10):\n",
    "        x[a]=0\n",
    "    x[number] =1\n",
    "    onehot_number = x \n",
    "    ### END CODE HERE###\n",
    "    return onehot_number"
   ]
  },
  {
   "cell_type": "code",
   "execution_count": 16,
   "metadata": {},
   "outputs": [
    {
     "name": "stdout",
     "output_type": "stream",
     "text": [
      "[7 2 1 0 4 1 4 9 5 9]\n"
     ]
    }
   ],
   "source": [
    "print(t_test[:10])\n",
    "idx_to_draw = 7\n",
    "img = x_test[idx_to_draw].reshape((28,28))\n",
    "\n",
    "number_converted = '#{}'.format(onehot(t_test[idx_to_draw]))\n",
    "img = x_test[idx_to_draw].reshape((28,28))"
   ]
  },
  {
   "cell_type": "code",
   "execution_count": 17,
   "metadata": {
    "scrolled": true
   },
   "outputs": [
    {
     "data": {
      "image/png": "[encoded data removed]",
      "text/plain": [
       "<Figure size 432x288 with 1 Axes>"
      ]
     },
     "metadata": {
      "needs_background": "light"
     },
     "output_type": "display_data"
    }
   ],
   "source": [
    "title = number_converted#'[0 0 0 0 1 0 0 0 0 0]' #one-hot encoding\n",
    "plt.imshow(img, cmap='gray')\n",
    "plt.title(title)\n",
    "plt.show()"
   ]
  },
  {
   "cell_type": "code",
   "execution_count": null,
   "metadata": {},
   "outputs": [],
   "source": []
  },
  {
   "cell_type": "code",
   "execution_count": null,
   "metadata": {},
   "outputs": [],
   "source": []
  },
  {
   "cell_type": "code",
   "execution_count": null,
   "metadata": {},
   "outputs": [],
   "source": []
  }
 ],
 "metadata": {
  "colab": {
   "authorship_tag": "ABX9TyOeCqc0/gkTUppxP/cwp+HS",
   "collapsed_sections": [],
   "name": "01_3_NN_MNIST_Exploration.ipynb",
   "provenance": []
  },
  "kernelspec": {
   "display_name": "Python 3",
   "language": "python",
   "name": "python3"
  },
  "language_info": {
   "codemirror_mode": {
    "name": "ipython",
    "version": 3
   },
   "file_extension": ".py",
   "mimetype": "text/x-python",
   "name": "python",
   "nbconvert_exporter": "python",
   "pygments_lexer": "ipython3",
   "version": "3.6.9"
  }
 },
 "nbformat": 4,
 "nbformat_minor": 1
}
