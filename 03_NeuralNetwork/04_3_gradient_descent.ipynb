{
 "cells": [
  {
   "cell_type": "code",
   "execution_count": 1,
   "metadata": {},
   "outputs": [],
   "source": [
    "import numpy as np\n",
    "import matplotlib.pylab as plt\n",
    "from mpl_toolkits.mplot3d import Axes3D\n",
    "from mpl_toolkits import mplot3d\n",
    "from ipywidgets import interact\n",
    "\n",
    "import tensorflow as tf"
   ]
  },
  {
   "cell_type": "code",
   "execution_count": null,
   "metadata": {},
   "outputs": [],
   "source": []
  },
  {
   "cell_type": "code",
   "execution_count": 2,
   "metadata": {},
   "outputs": [],
   "source": [
    "def function_2(x):\n",
    "    if x.ndim == 1:\n",
    "        return np.sum(x**2)\n",
    "    else:\n",
    "        return np.sum(x**2, axis=0) # x0^2 + x1^2"
   ]
  },
  {
   "cell_type": "code",
   "execution_count": 3,
   "metadata": {},
   "outputs": [],
   "source": [
    "def numerical_gradient_single_point(f, x, verbose=False): \n",
    "    h = 1e-4\n",
    "    grad = np.zeros_like(x)\n",
    "    if verbose:\n",
    "        print('x.size={}'.format(x.size)) # (x0, x1) 을 입력으로 받음 --> 2\n",
    "       \n",
    "    for idx in range(x.size): #축별로 계산\n",
    "        v_keep = x[idx]\n",
    "        \n",
    "        # f(x+h) 계산\n",
    "        x[idx] = float(v_keep) + h #n차원 입력 중 해당 차원으로만 h를 더하고\n",
    "        fxh1 = f(x)\n",
    "        if verbose:\n",
    "            print(x, '-->', fxh1)\n",
    "        \n",
    "        # f(x-h) 계산\n",
    "        x[idx] = float(v_keep) - h #n차원 입력 중 해당 차원으로만 h를 빼서\n",
    "        fxh2 = f(x)\n",
    "        if verbose:\n",
    "            print(x, '-->', fxh2)\n",
    "        \n",
    "        grad[idx] = (fxh1 - fxh2) / (2*h) #n차원 방향의 차분을 구함 !\n",
    "        x[idx] = v_keep # 값 복원\n",
    "        \n",
    "        if verbose:\n",
    "            print('grad[{}]={}'.format(idx, grad[idx]))\n",
    "            print()\n",
    "    return grad"
   ]
  },
  {
   "cell_type": "code",
   "execution_count": 4,
   "metadata": {},
   "outputs": [],
   "source": [
    "def numerical_gradient(f, X):\n",
    "    if X.ndim == 1:\n",
    "        return numerical_gradient_single_point(f, X)\n",
    "    else:\n",
    "        grad = np.zeros_like(X)\n",
    "        \n",
    "        for idx, x in enumerate(X):\n",
    "            grad[idx] = numerical_gradient_single_point(f, x)\n",
    "        \n",
    "        return grad"
   ]
  },
  {
   "cell_type": "code",
   "execution_count": 5,
   "metadata": {},
   "outputs": [],
   "source": [
    "def gradient_descent(f, init_x, lr =0.1, step_num= 100, return_history = False, verbose = False):\n",
    "    x = init_x\n",
    "    vx = np.zeros((step_num+1, 2)) # x의 궤적의 변화를 기록하기 위한 list 초기화\n",
    "    vx[0] = x\n",
    "    \n",
    "    for i in range(step_num):\n",
    "        grad = numerical_gradient(f, x)\n",
    "        \n",
    "        x -= lr * grad\n",
    "        if verbose:\n",
    "            print(x, grad)\n",
    "            \n",
    "        vx[i+1] = x # keep x in the history list\n",
    "    \n",
    "    if return_history:\n",
    "        \n",
    "        return x, vx\n",
    "    else:\n",
    "        return x"
   ]
  },
  {
   "cell_type": "code",
   "execution_count": 6,
   "metadata": {},
   "outputs": [],
   "source": [
    "init_x = np.array([-3.0, 4.0])"
   ]
  },
  {
   "cell_type": "code",
   "execution_count": 7,
   "metadata": {},
   "outputs": [],
   "source": [
    "#x_final = gradient_descent(function_2, init_x = init_x, lr = 0.1)"
   ]
  },
  {
   "cell_type": "code",
   "execution_count": 8,
   "metadata": {},
   "outputs": [
    {
     "ename": "NameError",
     "evalue": "name 'x_final' is not defined",
     "output_type": "error",
     "traceback": [
      "\u001b[0;31m---------------------------------------------------------------------------\u001b[0m",
      "\u001b[0;31mNameError\u001b[0m                                 Traceback (most recent call last)",
      "\u001b[0;32m<ipython-input-8-a40e2503e5ce>\u001b[0m in \u001b[0;36m<module>\u001b[0;34m\u001b[0m\n\u001b[0;32m----> 1\u001b[0;31m \u001b[0mx_final\u001b[0m\u001b[0;34m\u001b[0m\u001b[0;34m\u001b[0m\u001b[0m\n\u001b[0m",
      "\u001b[0;31mNameError\u001b[0m: name 'x_final' is not defined"
     ]
    }
   ],
   "source": [
    "x_final"
   ]
  },
  {
   "cell_type": "code",
   "execution_count": 9,
   "metadata": {},
   "outputs": [],
   "source": [
    "learning_rate = 0.1"
   ]
  },
  {
   "cell_type": "code",
   "execution_count": 10,
   "metadata": {},
   "outputs": [],
   "source": [
    "x_final, x_hist = gradient_descent(function_2, init_x.copy(), lr = learning_rate, return_history = True, verbose=False)"
   ]
  },
  {
   "cell_type": "code",
   "execution_count": 11,
   "metadata": {},
   "outputs": [
    {
     "data": {
      "text/plain": [
       "array([-6.11110793e-10,  8.14814391e-10])"
      ]
     },
     "execution_count": 11,
     "metadata": {},
     "output_type": "execute_result"
    }
   ],
   "source": [
    "x_final"
   ]
  },
  {
   "cell_type": "markdown",
   "metadata": {},
   "source": [
    "\n",
    "    Expected output when lr =0.1, step_num= 100, init_x = np.array([-3.0, 4.0]):\n",
    "\n",
    "array([-6.11110793e-10,  8.14814391e-10])"
   ]
  },
  {
   "cell_type": "code",
   "execution_count": 12,
   "metadata": {},
   "outputs": [
    {
     "data": {
      "text/plain": [
       "Text(0.5, 1.0, 'Learning rate = 0.1')"
      ]
     },
     "execution_count": 12,
     "metadata": {},
     "output_type": "execute_result"
    },
    {
     "data": {
      "image/png": "[encoded data removed]",
      "text/plain": [
       "<Figure size 432x288 with 1 Axes>"
      ]
     },
     "metadata": {
      "needs_background": "light"
     },
     "output_type": "display_data"
    }
   ],
   "source": [
    "plt.plot(x_hist[:,0])\n",
    "plt.plot(x_hist[:,1])\n",
    "plt.legend(['x_0', 'x_1'])\n",
    "plt.title('Learning rate = {}'.format(learning_rate))"
   ]
  },
  {
   "cell_type": "code",
   "execution_count": 13,
   "metadata": {
    "scrolled": true
   },
   "outputs": [
    {
     "data": {
      "text/plain": [
       "(array([-3.,  4.]),\n",
       " array([[-3.00000000e+00,  4.00000000e+00],\n",
       "        [-2.40000000e+00,  3.20000000e+00],\n",
       "        [-1.92000000e+00,  2.56000000e+00],\n",
       "        [-1.53600000e+00,  2.04800000e+00],\n",
       "        [-1.22880000e+00,  1.63840000e+00],\n",
       "        [-9.83040000e-01,  1.31072000e+00],\n",
       "        [-7.86432000e-01,  1.04857600e+00],\n",
       "        [-6.29145600e-01,  8.38860800e-01],\n",
       "        [-5.03316480e-01,  6.71088640e-01],\n",
       "        [-4.02653184e-01,  5.36870912e-01],\n",
       "        [-3.22122547e-01,  4.29496730e-01],\n",
       "        [-2.57698038e-01,  3.43597384e-01],\n",
       "        [-2.06158430e-01,  2.74877907e-01],\n",
       "        [-1.64926744e-01,  2.19902326e-01],\n",
       "        [-1.31941395e-01,  1.75921860e-01],\n",
       "        [-1.05553116e-01,  1.40737488e-01],\n",
       "        [-8.44424930e-02,  1.12589991e-01],\n",
       "        [-6.75539944e-02,  9.00719925e-02],\n",
       "        [-5.40431955e-02,  7.20575940e-02],\n",
       "        [-4.32345564e-02,  5.76460752e-02],\n",
       "        [-3.45876451e-02,  4.61168602e-02],\n",
       "        [-2.76701161e-02,  3.68934881e-02],\n",
       "        [-2.21360929e-02,  2.95147905e-02],\n",
       "        [-1.77088743e-02,  2.36118324e-02],\n",
       "        [-1.41670994e-02,  1.88894659e-02],\n",
       "        [-1.13336796e-02,  1.51115727e-02],\n",
       "        [-9.06694365e-03,  1.20892582e-02],\n",
       "        [-7.25355492e-03,  9.67140656e-03],\n",
       "        [-5.80284393e-03,  7.73712525e-03],\n",
       "        [-4.64227515e-03,  6.18970020e-03],\n",
       "        [-3.71382012e-03,  4.95176016e-03],\n",
       "        [-2.97105609e-03,  3.96140813e-03],\n",
       "        [-2.37684488e-03,  3.16912650e-03],\n",
       "        [-1.90147590e-03,  2.53530120e-03],\n",
       "        [-1.52118072e-03,  2.02824096e-03],\n",
       "        [-1.21694458e-03,  1.62259277e-03],\n",
       "        [-9.73555661e-04,  1.29807421e-03],\n",
       "        [-7.78844529e-04,  1.03845937e-03],\n",
       "        [-6.23075623e-04,  8.30767497e-04],\n",
       "        [-4.98460498e-04,  6.64613998e-04],\n",
       "        [-3.98768399e-04,  5.31691198e-04],\n",
       "        [-3.19014719e-04,  4.25352959e-04],\n",
       "        [-2.55211775e-04,  3.40282367e-04],\n",
       "        [-2.04169420e-04,  2.72225894e-04],\n",
       "        [-1.63335536e-04,  2.17780715e-04],\n",
       "        [-1.30668429e-04,  1.74224572e-04],\n",
       "        [-1.04534743e-04,  1.39379657e-04],\n",
       "        [-8.36277945e-05,  1.11503726e-04],\n",
       "        [-6.69022356e-05,  8.92029808e-05],\n",
       "        [-5.35217885e-05,  7.13623846e-05],\n",
       "        [-4.28174308e-05,  5.70899077e-05],\n",
       "        [-3.42539446e-05,  4.56719262e-05],\n",
       "        [-2.74031557e-05,  3.65375409e-05],\n",
       "        [-2.19225246e-05,  2.92300327e-05],\n",
       "        [-1.75380196e-05,  2.33840262e-05],\n",
       "        [-1.40304157e-05,  1.87072210e-05],\n",
       "        [-1.12243326e-05,  1.49657768e-05],\n",
       "        [-8.97946606e-06,  1.19726214e-05],\n",
       "        [-7.18357285e-06,  9.57809713e-06],\n",
       "        [-5.74685828e-06,  7.66247770e-06],\n",
       "        [-4.59748662e-06,  6.12998216e-06],\n",
       "        [-3.67798930e-06,  4.90398573e-06],\n",
       "        [-2.94239144e-06,  3.92318858e-06],\n",
       "        [-2.35391315e-06,  3.13855087e-06],\n",
       "        [-1.88313052e-06,  2.51084069e-06],\n",
       "        [-1.50650442e-06,  2.00867256e-06],\n",
       "        [-1.20520353e-06,  1.60693804e-06],\n",
       "        [-9.64162827e-07,  1.28555044e-06],\n",
       "        [-7.71330261e-07,  1.02844035e-06],\n",
       "        [-6.17064209e-07,  8.22752279e-07],\n",
       "        [-4.93651367e-07,  6.58201823e-07],\n",
       "        [-3.94921094e-07,  5.26561458e-07],\n",
       "        [-3.15936875e-07,  4.21249167e-07],\n",
       "        [-2.52749500e-07,  3.36999333e-07],\n",
       "        [-2.02199600e-07,  2.69599467e-07],\n",
       "        [-1.61759680e-07,  2.15679573e-07],\n",
       "        [-1.29407744e-07,  1.72543659e-07],\n",
       "        [-1.03526195e-07,  1.38034927e-07],\n",
       "        [-8.28209562e-08,  1.10427942e-07],\n",
       "        [-6.62567649e-08,  8.83423532e-08],\n",
       "        [-5.30054119e-08,  7.06738826e-08],\n",
       "        [-4.24043296e-08,  5.65391061e-08],\n",
       "        [-3.39234636e-08,  4.52312849e-08],\n",
       "        [-2.71387709e-08,  3.61850279e-08],\n",
       "        [-2.17110167e-08,  2.89480223e-08],\n",
       "        [-1.73688134e-08,  2.31584178e-08],\n",
       "        [-1.38950507e-08,  1.85267343e-08],\n",
       "        [-1.11160406e-08,  1.48213874e-08],\n",
       "        [-8.89283245e-09,  1.18571099e-08],\n",
       "        [-7.11426596e-09,  9.48568795e-09],\n",
       "        [-5.69141277e-09,  7.58855036e-09],\n",
       "        [-4.55313022e-09,  6.07084029e-09],\n",
       "        [-3.64250417e-09,  4.85667223e-09],\n",
       "        [-2.91400334e-09,  3.88533778e-09],\n",
       "        [-2.33120267e-09,  3.10827023e-09],\n",
       "        [-1.86496214e-09,  2.48661618e-09],\n",
       "        [-1.49196971e-09,  1.98929295e-09],\n",
       "        [-1.19357577e-09,  1.59143436e-09],\n",
       "        [-9.54860614e-10,  1.27314749e-09],\n",
       "        [-7.63888491e-10,  1.01851799e-09],\n",
       "        [-6.11110793e-10,  8.14814391e-10]]))"
      ]
     },
     "execution_count": 13,
     "metadata": {},
     "output_type": "execute_result"
    }
   ],
   "source": [
    "init_x, x_hist"
   ]
  },
  {
   "cell_type": "markdown",
   "metadata": {},
   "source": [
    "Expected output when lr =0.1, step_num= 100, init_x = np.array([-3.0, 4.0]):\n",
    "\n",
    "array([-6.11110793e-10,  8.14814391e-10])<hr>\n",
    "TODO I: lr = 10.0 으로, lr = 0.0001 등으로 변경하여 결과를 뽑아보고 논의해봅시다.\n",
    "\n",
    "TODO II: 3차원 공간에서의 좌표 궤적을 그려주세요 (lr = 0.001, 0.01, 0.1, 1.0, 10.0 등등)"
   ]
  },
  {
   "cell_type": "code",
   "execution_count": 14,
   "metadata": {},
   "outputs": [
    {
     "data": {
      "text/plain": [
       "Text(0.5, 1.0, 'Learning rate = 10')"
      ]
     },
     "execution_count": 14,
     "metadata": {},
     "output_type": "execute_result"
    },
    {
     "data": {
      "image/png": "[encoded data removed]",
      "text/plain": [
       "<Figure size 432x288 with 1 Axes>"
      ]
     },
     "metadata": {
      "needs_background": "light"
     },
     "output_type": "display_data"
    }
   ],
   "source": [
    "learning_rate = 10\n",
    "x_final, x_hist = gradient_descent(function_2, init_x.copy(), lr = learning_rate, \n",
    "                                   return_history = True, verbose=False)\n",
    "plt.plot(x_hist[:,0])\n",
    "plt.plot(x_hist[:,1])\n",
    "plt.legend(['x_0', 'x_1'])\n",
    "plt.title('Learning rate = {}'.format(learning_rate))"
   ]
  },
  {
   "cell_type": "code",
   "execution_count": 15,
   "metadata": {},
   "outputs": [
    {
     "data": {
      "text/plain": [
       "Text(0.5, 1.0, 'Learning rate = 1e-06')"
      ]
     },
     "execution_count": 15,
     "metadata": {},
     "output_type": "execute_result"
    },
    {
     "data": {
      "image/png": "[encoded data removed]",
      "text/plain": [
       "<Figure size 432x288 with 1 Axes>"
      ]
     },
     "metadata": {
      "needs_background": "light"
     },
     "output_type": "display_data"
    }
   ],
   "source": [
    "learning_rate = 0.000001\n",
    "x_final, x_hist = gradient_descent(function_2, init_x.copy(), lr = learning_rate, \n",
    "                                   return_history = True, verbose=False)\n",
    "plt.plot(x_hist[:,0])\n",
    "plt.plot(x_hist[:,1])\n",
    "plt.legend(['x_0', 'x_1'])\n",
    "plt.title('Learning rate = {}'.format(learning_rate))"
   ]
  },
  {
   "cell_type": "markdown",
   "metadata": {},
   "source": [
    "기울기를 별로 반영을 안해서 0에 도달하지 못한다"
   ]
  },
  {
   "cell_type": "code",
   "execution_count": 16,
   "metadata": {
    "scrolled": true
   },
   "outputs": [
    {
     "name": "stdout",
     "output_type": "stream",
     "text": [
      "(28, 28) (28, 28)\n",
      "[[-3.   -2.75 -2.5  ...  3.25  3.5   3.75]\n",
      " [-3.   -3.   -3.   ...  3.75  3.75  3.75]]\n"
     ]
    }
   ],
   "source": [
    "x0 = np.arange(-3, 4, 0.25) \n",
    "x1 = np.arange(-3, 4, 0.25)\n",
    "X, Y = np.meshgrid(x0, x1)\n",
    "print(X.shape,Y.shape)\n",
    "\n",
    "nrows = X.shape[0]\n",
    "ncols = X.shape[1]\n",
    "\n",
    "Xf = X.flatten()\n",
    "Yf = Y.flatten()\n",
    "arr = np.array([Xf, Yf])\n",
    "print(arr)\n",
    "\n",
    "Z = function_2(arr)\n",
    "#print(Z)\n",
    "Z = np.reshape(Z, (nrows,ncols))\n",
    "#print(Z)"
   ]
  },
  {
   "cell_type": "code",
   "execution_count": 17,
   "metadata": {},
   "outputs": [],
   "source": [
    "learning_rate = 0.1"
   ]
  },
  {
   "cell_type": "code",
   "execution_count": 18,
   "metadata": {},
   "outputs": [],
   "source": [
    "x_final, x_hist = gradient_descent(function_2, init_x.copy(), lr = learning_rate, \n",
    "                                   return_history = True, verbose=False)"
   ]
  },
  {
   "cell_type": "code",
   "execution_count": 19,
   "metadata": {},
   "outputs": [
    {
     "name": "stdout",
     "output_type": "stream",
     "text": [
      "[-6.11110793e-10  8.14814391e-10]\n"
     ]
    }
   ],
   "source": [
    "print (x_final)\n",
    "#x_hist"
   ]
  },
  {
   "cell_type": "code",
   "execution_count": null,
   "metadata": {
    "scrolled": true
   },
   "outputs": [],
   "source": []
  },
  {
   "cell_type": "code",
   "execution_count": 20,
   "metadata": {},
   "outputs": [],
   "source": [
    "def Rosenbrock(x,y):\n",
    "    return x**2 + y**2\n",
    "#x0^2 + x1^2"
   ]
  },
  {
   "cell_type": "code",
   "execution_count": 21,
   "metadata": {},
   "outputs": [
    {
     "name": "stdout",
     "output_type": "stream",
     "text": [
      "[2.50000000e+01 1.60000000e+01 1.02400000e+01 6.55360000e+00\n",
      " 4.19430400e+00 2.68435456e+00 1.71798692e+00 1.09951163e+00\n",
      " 7.03687442e-01 4.50359963e-01 2.88230376e-01 1.84467441e-01\n",
      " 1.18059162e-01 7.55578637e-02 4.83570328e-02 3.09485010e-02\n",
      " 1.98070406e-02 1.26765060e-02 8.11296384e-03 5.19229686e-03\n",
      " 3.32306999e-03 2.12676479e-03 1.36112947e-03 8.71122859e-04\n",
      " 5.57518630e-04 3.56811923e-04 2.28359631e-04 1.46150164e-04\n",
      " 9.35361048e-05 5.98631071e-05 3.83123885e-05 2.45199287e-05\n",
      " 1.56927543e-05 1.00433628e-05 6.42775218e-06 4.11376139e-06\n",
      " 2.63280729e-06 1.68499667e-06 1.07839787e-06 6.90174635e-07\n",
      " 4.41711766e-07 2.82695530e-07 1.80925139e-07 1.15792089e-07\n",
      " 7.41069371e-08 4.74284398e-08 3.03542014e-08 1.94266889e-08\n",
      " 1.24330809e-08 7.95717178e-09 5.09258994e-09 3.25925756e-09\n",
      " 2.08592484e-09 1.33499190e-09 8.54394814e-10 5.46812681e-10\n",
      " 3.49960116e-10 2.23974474e-10 1.43343663e-10 9.17399446e-11\n",
      " 5.87135646e-11 3.75766813e-11 2.40490760e-11 1.53914087e-11\n",
      " 9.85050155e-12 6.30432099e-12 4.03476543e-12 2.58224988e-12\n",
      " 1.65263992e-12 1.05768955e-12 6.76921312e-13 4.33229640e-13\n",
      " 2.77266969e-13 1.77450860e-13 1.13568551e-13 7.26838724e-14\n",
      " 4.65176784e-14 2.97713141e-14 1.90536411e-14 1.21943303e-14\n",
      " 7.80437138e-15 4.99479768e-15 3.19667052e-15 2.04586913e-15\n",
      " 1.30935624e-15 8.37987996e-16 5.36312317e-16 3.43239883e-16\n",
      " 2.19673525e-16 1.40591056e-16 8.99782759e-17 5.75860966e-17\n",
      " 3.68551018e-17 2.35872652e-17 1.50958497e-17 9.66134381e-18\n",
      " 6.18326004e-18 3.95728642e-18 2.53266331e-18 1.62090452e-18\n",
      " 1.03737889e-18]\n"
     ]
    }
   ],
   "source": [
    "Z_hist = Rosenbrock(x_hist[:,0],x_hist[:,1])\n",
    "#Z_hist = function_2(np.array(x_hist))\n",
    "print(Z_hist)"
   ]
  },
  {
   "cell_type": "code",
   "execution_count": 32,
   "metadata": {},
   "outputs": [
    {
     "data": {
      "text/plain": [
       "[<matplotlib.lines.Line2D at 0x7f1dfbdf49e8>]"
      ]
     },
     "execution_count": 32,
     "metadata": {},
     "output_type": "execute_result"
    },
    {
     "data": {
      "image/png": "[encoded data removed]",
      "text/plain": [
       "<Figure size 432x288 with 1 Axes>"
      ]
     },
     "metadata": {
      "needs_background": "light"
     },
     "output_type": "display_data"
    }
   ],
   "source": [
    "#plt.plot(X)\n",
    "#plt.plot(Y)\n",
    "#plt.plot(Z)\n",
    "plt.plot(x_hist[:,1])"
   ]
  },
  {
   "cell_type": "code",
   "execution_count": 29,
   "metadata": {},
   "outputs": [
    {
     "data": {
      "text/plain": [
       "[<mpl_toolkits.mplot3d.art3d.Line3D at 0x7f1dfbf78390>]"
      ]
     },
     "execution_count": 29,
     "metadata": {},
     "output_type": "execute_result"
    },
    {
     "data": {
      "image/png": "[encoded data removed]",
      "text/plain": [
       "<Figure size 432x288 with 1 Axes>"
      ]
     },
     "metadata": {
      "needs_background": "light"
     },
     "output_type": "display_data"
    }
   ],
   "source": [
    "ax = plt.axes(projection=\"3d\")\n",
    "#plt.plot(x_hist[:,0],'r')\n",
    "ax.plot(x_hist[:,0],x_hist[:,1],'b')\n",
    "#plt.plot(Z_hist,'g')"
   ]
  },
  {
   "cell_type": "code",
   "execution_count": 24,
   "metadata": {
    "scrolled": true
   },
   "outputs": [
    {
     "data": {
      "application/vnd.jupyter.widget-view+json": {
       "model_id": "fdfb053d0ca34715952d9b3ce6a11a50",
       "version_major": 2,
       "version_minor": 0
      },
      "text/plain": [
       "interactive(children=(IntSlider(value=40, description='elev', max=90, min=-90), IntSlider(value=300, descripti…"
      ]
     },
     "metadata": {},
     "output_type": "display_data"
    }
   ],
   "source": [
    "def plot_3D(elev=40, azim=300):\n",
    "\n",
    "    fig = plt.figure()\n",
    "    ax = plt.axes(projection=\"3d\")\n",
    "    ax.plot_wireframe(X,Y,Z)\n",
    "    ax.plot(x_hist[:,0], x_hist[:,1],Z_hist,'o-',c='red')\n",
    "    ax.view_init(elev=elev, azim=azim)\n",
    "    ax.set_xlabel('x0')\n",
    "    ax.set_ylabel('x1')\n",
    "    ax.set_zlabel('z')\n",
    "    plt.show()\n",
    "interact(plot_3D, elev=(-90, 90), azip=(-180, 180));"
   ]
  },
  {
   "cell_type": "markdown",
   "metadata": {},
   "source": [
    "learning rate가 0.1일때 적절하게 찍힌다. "
   ]
  },
  {
   "cell_type": "code",
   "execution_count": 48,
   "metadata": {},
   "outputs": [],
   "source": [
    "learning_rate = 0.01\n",
    "x_final, x_hist = gradient_descent(function_2, init_x.copy(), lr = learning_rate, \n",
    "                                   return_history = True, verbose=False)\n",
    "Z_hist = Rosenbrock(x_hist[:,0],x_hist[:,1])"
   ]
  },
  {
   "cell_type": "code",
   "execution_count": 49,
   "metadata": {},
   "outputs": [
    {
     "data": {
      "application/vnd.jupyter.widget-view+json": {
       "model_id": "8901311aa9c64580950ff8892fd5e83f",
       "version_major": 2,
       "version_minor": 0
      },
      "text/plain": [
       "interactive(children=(IntSlider(value=40, description='elev', max=90, min=-90), IntSlider(value=300, descripti…"
      ]
     },
     "metadata": {},
     "output_type": "display_data"
    }
   ],
   "source": [
    "interact(plot_3D, elev=(-90, 90), azip=(-180, 180));"
   ]
  },
  {
   "cell_type": "markdown",
   "metadata": {},
   "source": [
    "lr이 0.01때는 너무 촘촘하게 나온다."
   ]
  },
  {
   "cell_type": "code",
   "execution_count": 50,
   "metadata": {},
   "outputs": [],
   "source": [
    "learning_rate = 10\n",
    "x_final, x_hist = gradient_descent(function_2, init_x.copy(), lr = learning_rate, \n",
    "                                   return_history = True, verbose=False)\n",
    "Z_hist = Rosenbrock(x_hist[:,0],x_hist[:,1])"
   ]
  },
  {
   "cell_type": "code",
   "execution_count": 51,
   "metadata": {},
   "outputs": [
    {
     "data": {
      "application/vnd.jupyter.widget-view+json": {
       "model_id": "5a6bbca95eb64c9e9f3ed4c3053cafd0",
       "version_major": 2,
       "version_minor": 0
      },
      "text/plain": [
       "interactive(children=(IntSlider(value=40, description='elev', max=90, min=-90), IntSlider(value=300, descripti…"
      ]
     },
     "metadata": {},
     "output_type": "display_data"
    }
   ],
   "source": [
    "interact(plot_3D, elev=(-90, 90), azip=(-180, 180));"
   ]
  },
  {
   "cell_type": "markdown",
   "metadata": {},
   "source": [
    "lr이 10일때 한 걸음이 너무 커서 이상하게 나온다."
   ]
  },
  {
   "cell_type": "code",
   "execution_count": null,
   "metadata": {},
   "outputs": [],
   "source": []
  }
 ],
 "metadata": {
  "kernelspec": {
   "display_name": "Python 3",
   "language": "python",
   "name": "python3"
  },
  "language_info": {
   "codemirror_mode": {
    "name": "ipython",
    "version": 3
   },
   "file_extension": ".py",
   "mimetype": "text/x-python",
   "name": "python",
   "nbconvert_exporter": "python",
   "pygments_lexer": "ipython3",
   "version": "3.6.9"
  }
 },
 "nbformat": 4,
 "nbformat_minor": 4
}
